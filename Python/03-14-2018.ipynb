{
 "cells": [
  {
   "cell_type": "code",
   "execution_count": 4,
   "metadata": {},
   "outputs": [
    {
     "name": "stdout",
     "output_type": "stream",
     "text": [
      "This program solves a quadratic equation ax^2+bx+c=0\n",
      "Enter your value for a: 1\n",
      "Enter your value for b: -4\n",
      "Enter your value for c: 4\n",
      "The solution to 1x^2-4x+4=0 is 2.0\n"
     ]
    }
   ],
   "source": [
    "# Here's a program which solves any quadratic equation\n",
    "#ax^2+bx+c=0\n",
    "import math\n",
    "print('This program solves a quadratic equation ax^2+bx+c=0')\n",
    "a = float(input('Enter your value for a: '))\n",
    "b = float(input('Enter your value for b: '))\n",
    "c = float(input('Enter your value for c: '))\n",
    "\n",
    "if a==0:\n",
    "    print('a cannot be zero')\n",
    "    a = float(input('Enter your value for a: '))\n",
    "    \n",
    "d = b**2 - 4*a*c\n",
    "\n",
    "if d>0: #2 distinct real solutions\n",
    "    sol1 = (-b+math.sqrt(d))/(2*a)\n",
    "    sol2 = (-b-math.sqrt(d))/(2*a)\n",
    "    print('The solutions to {:g}x^2{:+g}x{:+g}=0 are {:.3f} and {:.3f}'.format(a,b,c,sol1,sol2))\n",
    "elif d<0: #complex conjugate solutions\n",
    "    p = -b/(2*a)\n",
    "    q = abs(math.sqrt(-d)/(2*a))\n",
    "    print('The solutions to {0:g}x^2{1:+g}x{2:+g}=0 are {3}+{4:.3f}i and {3}-{4:.3f}i'.format(a,b,c,p,q))\n",
    "else: #1 real solution\n",
    "    sol = -b/(2*a)\n",
    "    print('The solution to {:g}x^2{:+g}x{:+g}=0 is {}'.format(a,b,c,sol))\n",
    "    "
   ]
  },
  {
   "cell_type": "code",
   "execution_count": 2,
   "metadata": {},
   "outputs": [
    {
     "data": {
      "text/plain": [
       "'The cat is fluffy'"
      ]
     },
     "execution_count": 2,
     "metadata": {},
     "output_type": "execute_result"
    }
   ],
   "source": [
    "'The cat is fluffy'"
   ]
  },
  {
   "cell_type": "code",
   "execution_count": 3,
   "metadata": {},
   "outputs": [
    {
     "data": {
      "text/plain": [
       "'The dog is fluffy'"
      ]
     },
     "execution_count": 3,
     "metadata": {},
     "output_type": "execute_result"
    }
   ],
   "source": [
    "'The dog is fluffy'"
   ]
  },
  {
   "cell_type": "code",
   "execution_count": 7,
   "metadata": {},
   "outputs": [
    {
     "data": {
      "text/plain": [
       "'The bear is fluffy'"
      ]
     },
     "execution_count": 7,
     "metadata": {},
     "output_type": "execute_result"
    }
   ],
   "source": [
    "'The bear is fluffy'"
   ]
  },
  {
   "cell_type": "code",
   "execution_count": 16,
   "metadata": {},
   "outputs": [
    {
     "name": "stdout",
     "output_type": "stream",
     "text": [
      "2 11\n",
      "True\n"
     ]
    }
   ],
   "source": [
    "A=[-2, 1, 2, 4, 7, 11]\n",
    "target=13\n",
    "def two_sum_brute_force(A,target):\n",
    "    for i in range(0,len(A)-1):\n",
    "        for j in range(i+1,len(A)):\n",
    "            if (A[i]+A[j])==target:\n",
    "                print(A[i],A[j])\n",
    "                return True\n",
    "    return False\n",
    "print(two_sum_brute_force(A,target))\n",
    "            "
   ]
  },
  {
   "cell_type": "code",
   "execution_count": 13,
   "metadata": {},
   "outputs": [
    {
     "data": {
      "text/plain": [
       "'The wolf is fluffy'"
      ]
     },
     "execution_count": 13,
     "metadata": {},
     "output_type": "execute_result"
    }
   ],
   "source": [
    "'The {} is fluffy'.format('wolf')"
   ]
  },
  {
   "cell_type": "code",
   "execution_count": 9,
   "metadata": {},
   "outputs": [
    {
     "name": "stdout",
     "output_type": "stream",
     "text": [
      "The solutions to 2x^2+3x+5=0 are 15.211 and 20.120\n"
     ]
    }
   ],
   "source": [
    "a,b,c,sol1,sol2 = 2,3,5,15.210934710293847,20.12039471029384710293847\n",
    "print('The solutions to {}x^2{:+}x{:+}=0 are {:.3f} and {:.3f}'.format(a,b,c,sol1,sol2))"
   ]
  },
  {
   "cell_type": "code",
   "execution_count": 10,
   "metadata": {},
   "outputs": [
    {
     "name": "stdout",
     "output_type": "stream",
     "text": [
      "pi=3.1415926535897931159979635\n"
     ]
    }
   ],
   "source": [
    "import math\n",
    "print('pi={:.25f}'.format(math.pi))"
   ]
  },
  {
   "cell_type": "code",
   "execution_count": 1,
   "metadata": {},
   "outputs": [
    {
     "name": "stdout",
     "output_type": "stream",
     "text": [
      "1\n",
      "2\n",
      "3\n",
      "4\n",
      "5\n",
      "6\n",
      "7\n",
      "8\n",
      "9\n",
      "10\n",
      "11\n",
      "12\n",
      "13\n",
      "14\n",
      "15\n",
      "16\n",
      "17\n",
      "18\n",
      "19\n",
      "20\n",
      "21\n",
      "22\n",
      "23\n",
      "24\n",
      "25\n",
      "26\n",
      "27\n",
      "28\n",
      "29\n",
      "30\n",
      "31\n",
      "32\n",
      "33\n",
      "34\n",
      "35\n",
      "36\n",
      "37\n",
      "38\n",
      "39\n",
      "40\n",
      "41\n",
      "42\n",
      "43\n",
      "44\n",
      "45\n",
      "46\n",
      "47\n",
      "48\n",
      "49\n",
      "50\n",
      "51\n",
      "52\n",
      "53\n",
      "54\n",
      "55\n",
      "56\n",
      "57\n",
      "58\n",
      "59\n",
      "60\n",
      "61\n",
      "62\n",
      "63\n",
      "64\n",
      "65\n",
      "66\n",
      "67\n",
      "68\n",
      "69\n",
      "70\n",
      "71\n",
      "72\n",
      "73\n",
      "74\n",
      "75\n",
      "76\n",
      "77\n",
      "78\n",
      "79\n",
      "80\n",
      "81\n",
      "82\n",
      "83\n",
      "84\n",
      "85\n",
      "86\n",
      "87\n",
      "88\n",
      "89\n",
      "90\n",
      "91\n",
      "92\n",
      "93\n",
      "94\n",
      "95\n",
      "96\n",
      "97\n",
      "98\n",
      "99\n",
      "100\n"
     ]
    }
   ],
   "source": [
    "for number in range(1,101):\n",
    "    print(number)\n",
    "    "
   ]
  },
  {
   "cell_type": "code",
   "execution_count": null,
   "metadata": {
    "collapsed": true
   },
   "outputs": [],
   "source": []
  }
 ],
 "metadata": {
  "anaconda-cloud": {},
  "kernelspec": {
   "display_name": "Python 3",
   "language": "python",
   "name": "python3"
  },
  "language_info": {
   "codemirror_mode": {
    "name": "ipython",
    "version": 3
   },
   "file_extension": ".py",
   "mimetype": "text/x-python",
   "name": "python",
   "nbconvert_exporter": "python",
   "pygments_lexer": "ipython3",
   "version": "3.7.3"
  }
 },
 "nbformat": 4,
 "nbformat_minor": 1
}
